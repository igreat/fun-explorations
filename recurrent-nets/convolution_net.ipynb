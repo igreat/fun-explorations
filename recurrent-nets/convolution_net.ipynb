{
 "cells": [
  {
   "cell_type": "code",
   "execution_count": 1,
   "metadata": {},
   "outputs": [],
   "source": [
    "# this is where I will implement the WaveNet model for makemore\n",
    "import torch\n",
    "import torch.nn as nn\n",
    "import torch.nn.functional as F\n",
    "import matplotlib.pyplot as plt\n",
    "%matplotlib inline\n",
    "\n",
    "device = \"mps\""
   ]
  },
  {
   "cell_type": "code",
   "execution_count": 3,
   "metadata": {},
   "outputs": [],
   "source": [
    "# load all harry potter books as text into a list\n",
    "text: list[str] = []\n",
    "for i in range(1, 2):\n",
    "    with open(f\"data/harry-potter/book{i}.txt\") as f:\n",
    "        text += list(f.read())"
   ]
  },
  {
   "cell_type": "code",
   "execution_count": 4,
   "metadata": {},
   "outputs": [
    {
     "name": "stdout",
     "output_type": "stream",
     "text": [
      "/ \n",
      "\n",
      "\n",
      "\n",
      "\n",
      "THE BOY WHO LIVED \n",
      "\n",
      "Mr. and Mrs. Dursley, of number four, Privet Drive, \n",
      "were proud to say th\n"
     ]
    }
   ],
   "source": [
    "# print first 100 characters\n",
    "print(\"\".join(text[:100]))"
   ]
  },
  {
   "cell_type": "code",
   "execution_count": 5,
   "metadata": {},
   "outputs": [],
   "source": [
    "# look up table encoder decoder from letters in words to numbers\n",
    "def make_encoder_decoder(words: list[str]) -> tuple[dict[str, int], dict[int, str]]:\n",
    "    letters = sorted(set(\"\".join(words)))\n",
    "    encoder = {letter: i for i, letter in enumerate(letters)}\n",
    "    decoder = {i: letter for i, letter in enumerate(letters)}\n",
    "    return encoder, decoder"
   ]
  },
  {
   "cell_type": "code",
   "execution_count": 6,
   "metadata": {},
   "outputs": [],
   "source": [
    "# partition the dataset into sequences\n",
    "def make_sequences(x: torch.Tensor, sequence_size: int) -> torch.Tensor:\n",
    "    sequences = []\n",
    "    for i in range(0, x.shape[0] - sequence_size):\n",
    "        sequences.append(x[i : i + sequence_size])\n",
    "    return torch.stack(sequences)"
   ]
  },
  {
   "cell_type": "code",
   "execution_count": 7,
   "metadata": {},
   "outputs": [],
   "source": [
    "# partition the dataset into mini batches randomly and return the batches\n",
    "def make_batches(x: torch.Tensor, batch_size):\n",
    "    n = x.shape[0]\n",
    "    indices = torch.randperm(n)\n",
    "    x = x[indices]\n",
    "    for i in range(0, n, batch_size):\n",
    "        yield x[i : i + batch_size, :-1], x[i : i + batch_size, 1:]"
   ]
  },
  {
   "cell_type": "code",
   "execution_count": 8,
   "metadata": {},
   "outputs": [
    {
     "data": {
      "text/plain": [
       "474429"
      ]
     },
     "execution_count": 8,
     "metadata": {},
     "output_type": "execute_result"
    }
   ],
   "source": [
    "len(text)"
   ]
  },
  {
   "cell_type": "code",
   "execution_count": 9,
   "metadata": {},
   "outputs": [],
   "source": [
    "encoder, decoder = make_encoder_decoder(text)\n",
    "sequence_length = 64\n",
    "# create the dataset\n",
    "all_letters = torch.tensor([encoder[letter] for letter in text], dtype=torch.long)\n",
    "sequences = make_sequences(all_letters, sequence_length + 1).to(device)"
   ]
  },
  {
   "cell_type": "code",
   "execution_count": 10,
   "metadata": {},
   "outputs": [
    {
     "data": {
      "text/plain": [
       "torch.Size([474364, 65])"
      ]
     },
     "execution_count": 10,
     "metadata": {},
     "output_type": "execute_result"
    }
   ],
   "source": [
    "sequences.shape"
   ]
  },
  {
   "cell_type": "code",
   "execution_count": 11,
   "metadata": {},
   "outputs": [],
   "source": [
    "# num of convolutions must be such that 2^num_convolutions = sequence_length\n",
    "# num_convolutions = 7 -> sequence_length = 128"
   ]
  },
  {
   "cell_type": "code",
   "execution_count": 12,
   "metadata": {},
   "outputs": [],
   "source": [
    "class CausalConv1d(nn.Module):\n",
    "    def __init__(self, in_channels, out_channels, kernel_size, stride=1, dilation=1):\n",
    "        super(CausalConv1d, self).__init__()\n",
    "        self.conv = nn.Conv1d(in_channels, out_channels, kernel_size, stride, dilation=dilation)\n",
    "        self.padding = (kernel_size - 1) * dilation\n",
    "\n",
    "    def forward(self, input):\n",
    "        return self.conv(F.pad(input, (self.padding, 0)))\n",
    "\n",
    "class ResidualBlock(nn.Module):\n",
    "    def __init__(self, channel_dim, dilation):\n",
    "        super(ResidualBlock, self).__init__()\n",
    "        # filter and gate conv concatenated\n",
    "        self.conv = CausalConv1d(channel_dim, channel_dim*2, 2, dilation=dilation)\n",
    "        self.batch_norm = nn.BatchNorm1d(channel_dim)\n",
    "\n",
    "    def forward(self, input):\n",
    "        output = self.conv(input)\n",
    "        filter_output = torch.tanh(output[:, :output.shape[1]//2])\n",
    "        gate_output = torch.sigmoid(output[:, output.shape[1]//2:])\n",
    "        output = filter_output * gate_output\n",
    "        output = self.batch_norm(output)\n",
    "        return output + input\n",
    "\n",
    "emb_dim = 128\n",
    "class WaveNet(nn.Module):\n",
    "    def __init__(self):\n",
    "        super(WaveNet, self).__init__()\n",
    "        self.embedding = nn.Embedding(len(encoder), emb_dim)\n",
    "        self.residual_blocks = nn.Sequential(\n",
    "            ResidualBlock(emb_dim, 1),\n",
    "            ResidualBlock(emb_dim, 2),\n",
    "            ResidualBlock(emb_dim, 4),\n",
    "            ResidualBlock(emb_dim, 8),\n",
    "            ResidualBlock(emb_dim, 16),\n",
    "            ResidualBlock(emb_dim, 32),\n",
    "            ResidualBlock(emb_dim, 64),\n",
    "        )\n",
    "        self.conv = CausalConv1d(emb_dim, len(encoder), 2, dilation=128)\n",
    "\n",
    "    def forward(self, x: torch.Tensor):\n",
    "        x = self.embedding(x)\n",
    "        # make input shape into (batch_size, channels, sequence_length)\n",
    "        x = x.permute(0, 2, 1)\n",
    "        x = self.residual_blocks(x)\n",
    "        x = self.conv(x)\n",
    "        return x"
   ]
  },
  {
   "cell_type": "code",
   "execution_count": 13,
   "metadata": {},
   "outputs": [],
   "source": [
    "# set up the model\n",
    "model = WaveNet().to(device)\n",
    "# load the model and optimizer from checkpoint\n",
    "# checkpoint = torch.load(\"checkpoint.pt\", map_location=\"mps\")\n",
    "# model.load_state_dict(checkpoint[\"model_state_dict\"])\n",
    "optimizer = torch.optim.AdamW(model.parameters(), lr=5e-4)\n",
    "# optimizer.load_state_dict(checkpoint[\"optimizer_state_dict\"])"
   ]
  },
  {
   "cell_type": "code",
   "execution_count": 14,
   "metadata": {},
   "outputs": [],
   "source": [
    "losses = []"
   ]
  },
  {
   "cell_type": "code",
   "execution_count": null,
   "metadata": {},
   "outputs": [],
   "source": [
    "# training loop\n",
    "max_iters = 1\n",
    "batch_size = 64\n",
    "num_batches = sequences.shape[0] // batch_size\n",
    "model.train().to(device)\n",
    "for i in range(max_iters):\n",
    "    for batch_num, (x, y) in enumerate(make_batches(sequences, batch_size)):\n",
    "        y_hat = model(x)\n",
    "        loss = F.cross_entropy(y_hat.squeeze(), y)\n",
    "        \n",
    "        optimizer.zero_grad()\n",
    "        loss.backward()\n",
    "        optimizer.step()\n",
    "        losses.append(loss.item())\n",
    "\n",
    "        if batch_num % 100 == 0:\n",
    "            print(f\"epoch: {i}, batch: [{batch_num:>4d}/{num_batches:>4d}], loss: {loss.item():.4f}\")\n",
    "    \n",
    "    print(f\"epoch: {i}, loss: {loss.item()}\")\n",
    "\n",
    "    # save checkpoint of model (optimizer and model state dict)\n",
    "    torch.save({\n",
    "        \"model_state_dict\": model.state_dict(),\n",
    "        \"optimizer_state_dict\": optimizer.state_dict(),\n",
    "        \"loss\": loss\n",
    "    }, \"checkpoint.pt\")"
   ]
  },
  {
   "cell_type": "code",
   "execution_count": 18,
   "metadata": {},
   "outputs": [
    {
     "data": {
      "text/plain": [
       "[<matplotlib.lines.Line2D at 0x3d5ca7be0>]"
      ]
     },
     "execution_count": 18,
     "metadata": {},
     "output_type": "execute_result"
    },
    {
     "data": {
      "image/png": "[encoded data removed]",
      "text/plain": [
       "<Figure size 432x288 with 1 Axes>"
      ]
     },
     "metadata": {
      "needs_background": "light"
     },
     "output_type": "display_data"
    }
   ],
   "source": [
    "# display the loss\n",
    "# smoothed losses\n",
    "smoothed_losses = []\n",
    "for i in range(0, len(losses)):\n",
    "    smoothed_losses.append(sum(losses[i:i+500]) / 500)\n",
    "\n",
    "plt.plot(smoothed_losses[:-500])\n",
    "# plt.plot(losses)"
   ]
  },
  {
   "cell_type": "code",
   "execution_count": 19,
   "metadata": {},
   "outputs": [
    {
     "data": {
      "text/plain": [
       "[<matplotlib.lines.Line2D at 0x3d72bb580>]"
      ]
     },
     "execution_count": 19,
     "metadata": {},
     "output_type": "execute_result"
    },
    {
     "data": {
      "image/png": "[encoded data removed]",
      "text/plain": [
       "<Figure size 432x288 with 1 Axes>"
      ]
     },
     "metadata": {
      "needs_background": "light"
     },
     "output_type": "display_data"
    }
   ],
   "source": [
    "plt.plot(losses)"
   ]
  },
  {
   "cell_type": "code",
   "execution_count": 69,
   "metadata": {},
   "outputs": [],
   "source": [
    "# save model weights\n",
    "torch.save({\n",
    "    \"model_state_dict\": model.state_dict(),\n",
    "    \"optimizer_state_dict\": optimizer.state_dict(),\n",
    "    \"loss\": loss\n",
    "}, \"checkpoint.pt\")"
   ]
  },
  {
   "cell_type": "code",
   "execution_count": 50,
   "metadata": {},
   "outputs": [],
   "source": [
    "# generate text\n",
    "sequence_length = 128\n",
    "@torch.no_grad()\n",
    "def generate_text(model, start_text: str, length: int) -> str:\n",
    "    # encode the start text\n",
    "    encoded_text = torch.tensor([encoder[letter] for letter in list(start_text)], dtype=torch.long)\n",
    "    # generate the text\n",
    "    for i in range(length):\n",
    "        # get the next letter\n",
    "        text = encoded_text[-sequence_length:]\n",
    "        y_hat = model(text.unsqueeze(0))\n",
    "        y_hat = y_hat.squeeze()[:, -1]\n",
    "        y_hat = F.softmax(y_hat, dim=-1)\n",
    "        # sample from the distribution\n",
    "        next_letter = torch.multinomial(y_hat, 1)\n",
    "        # add the letter to the encoded text\n",
    "        encoded_text = torch.cat((encoded_text, next_letter))\n",
    "    # decode the text\n",
    "    decoded_text = \"\".join([decoder[letter.item()] for letter in encoded_text])\n",
    "    return decoded_text"
   ]
  },
  {
   "cell_type": "code",
   "execution_count": null,
   "metadata": {},
   "outputs": [],
   "source": [
    "# load and test model\n",
    "# model = WaveNet(sequence_length).to(\"mps\")\n",
    "# model.load_state_dict(torch.load(\"wavenet_seqlength128.pth\", map_location=\"mps\"))\n",
    "new_model = model.eval().cpu()\n",
    "\n",
    "# start text of length 128 characters\n",
    "start_text = \" \" * 128\n",
    "# generate text\n",
    "generated_text = generate_text(new_model, start_text, 2000)\n",
    "print(generated_text)"
   ]
  }
 ],
 "metadata": {
  "kernelspec": {
   "display_name": "torch-nightly",
   "language": "python",
   "name": "python3"
  },
  "language_info": {
   "codemirror_mode": {
    "name": "ipython",
    "version": 3
   },
   "file_extension": ".py",
   "mimetype": "text/x-python",
   "name": "python",
   "nbconvert_exporter": "python",
   "pygments_lexer": "ipython3",
   "version": "3.9.12"
  },
  "orig_nbformat": 4,
  "vscode": {
   "interpreter": {
    "hash": "b69368623ed639ee298e27c6826506e73bcdec6b9db0563c29b08757f48e8ce8"
   }
  }
 },
 "nbformat": 4,
 "nbformat_minor": 2
}
