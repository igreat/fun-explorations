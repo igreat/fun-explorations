{
 "cells": [
  {
   "cell_type": "code",
   "execution_count": 1,
   "metadata": {},
   "outputs": [],
   "source": [
    "# this is where I will implement the WaveNet model for makemore\n",
    "import torch\n",
    "import torch.nn as nn\n",
    "import torch.nn.functional as F\n",
    "import matplotlib.pyplot as plt\n",
    "%matplotlib inline"
   ]
  },
  {
   "cell_type": "code",
   "execution_count": 2,
   "metadata": {},
   "outputs": [],
   "source": [
    "# load all harry potter books as text into a list\n",
    "text: list[str] = []\n",
    "for i in range(1, 3):\n",
    "    with open(f\"harry-potter/book{i}.txt\") as f:\n",
    "        text += list(f.read())"
   ]
  },
  {
   "cell_type": "code",
   "execution_count": 3,
   "metadata": {},
   "outputs": [
    {
     "name": "stdout",
     "output_type": "stream",
     "text": [
      "/ \n",
      "\n",
      "\n",
      "\n",
      "\n",
      "THE BOY WHO LIVED \n",
      "\n",
      "Mr. and Mrs. Dursley, of number four, Privet Drive, \n",
      "were proud to say th\n"
     ]
    }
   ],
   "source": [
    "# print first 100 characters\n",
    "print(\"\".join(text[:100]))"
   ]
  },
  {
   "cell_type": "code",
   "execution_count": 4,
   "metadata": {},
   "outputs": [],
   "source": [
    "# look up table encoder decoder from letters in words to numbers\n",
    "def make_encoder_decoder(words: list[str]) -> tuple[dict[str, int], dict[int, str]]:\n",
    "    letters = sorted(set(\"\".join(words)))\n",
    "    encoder = {letter: i for i, letter in enumerate(letters)}\n",
    "    decoder = {i: letter for i, letter in enumerate(letters)}\n",
    "    return encoder, decoder"
   ]
  },
  {
   "cell_type": "code",
   "execution_count": 5,
   "metadata": {},
   "outputs": [],
   "source": [
    "# partition the dataset into sequences\n",
    "def make_sequences(x: torch.Tensor, sequence_size: int) -> torch.Tensor:\n",
    "    sequences = []\n",
    "    for i in range(0, x.shape[0] - sequence_size):\n",
    "        sequences.append(x[i:i+sequence_size])\n",
    "    return torch.stack(sequences)"
   ]
  },
  {
   "cell_type": "code",
   "execution_count": 6,
   "metadata": {},
   "outputs": [],
   "source": [
    "# partition the dataset into mini batches randomly and return the batches\n",
    "def make_batches(x: torch.Tensor, batch_size):\n",
    "    n = x.shape[0]\n",
    "    indices = torch.randperm(n)\n",
    "    x = x[indices]\n",
    "    for i in range(0, n, batch_size):\n",
    "        xs = x[i:i+batch_size]\n",
    "        # batches.append((x[i:i+batch_size, :-1], x[i:i+batch_size, -1]))\n",
    "        yield x[i:i+batch_size, :-1], x[i:i+batch_size, -1]\n"
   ]
  },
  {
   "cell_type": "code",
   "execution_count": 7,
   "metadata": {},
   "outputs": [
    {
     "data": {
      "text/plain": [
       "1006137"
      ]
     },
     "execution_count": 7,
     "metadata": {},
     "output_type": "execute_result"
    }
   ],
   "source": [
    "len(text)"
   ]
  },
  {
   "cell_type": "code",
   "execution_count": 8,
   "metadata": {},
   "outputs": [],
   "source": [
    "encoder, decoder = make_encoder_decoder(text)\n",
    "sequence_length = 128\n",
    "# create the dataset\n",
    "all_letters = torch.tensor([encoder[letter] for letter in text], dtype=torch.long)\n",
    "sequences = make_sequences(all_letters, sequence_length + 1).to(\"mps\")"
   ]
  },
  {
   "cell_type": "code",
   "execution_count": 9,
   "metadata": {},
   "outputs": [
    {
     "data": {
      "text/plain": [
       "torch.Size([1006008, 129])"
      ]
     },
     "execution_count": 9,
     "metadata": {},
     "output_type": "execute_result"
    }
   ],
   "source": [
    "sequences.shape"
   ]
  },
  {
   "cell_type": "code",
   "execution_count": 10,
   "metadata": {},
   "outputs": [],
   "source": [
    "class ResidualBlock(nn.Module):\n",
    "    def __init__(self, channel_dim, dilation):\n",
    "        super(ResidualBlock, self).__init__()\n",
    "        # filter and gate conv concatenated\n",
    "        self.conv = nn.Conv1d(channel_dim, channel_dim*2, 2, padding=\"same\", dilation=dilation)\n",
    "        self.batch_norm = nn.BatchNorm1d(channel_dim)\n",
    "\n",
    "    def forward(self, input):\n",
    "        output = self.conv(input)\n",
    "        filter_output = torch.tanh(output[:, :output.shape[1]//2])\n",
    "        gate_output = torch.sigmoid(output[:, output.shape[1]//2:])\n",
    "        output = filter_output * gate_output\n",
    "        output = self.batch_norm(output)\n",
    "        return output + input\n",
    "\n",
    "class WaveNet(nn.Module):\n",
    "    def __init__(self, sequence_length: int):\n",
    "        super(WaveNet, self).__init__()\n",
    "        # embedding layer\n",
    "        self.embedding = nn.Embedding(len(encoder), 32)\n",
    "        # assume input of sequence length 128\n",
    "        # residual blocks\n",
    "        self.residual_blocks = nn.Sequential(\n",
    "            ResidualBlock(32, 1),\n",
    "            ResidualBlock(32, 2),\n",
    "            ResidualBlock(32, 4),\n",
    "            ResidualBlock(32, 8),\n",
    "\n",
    "        )\n",
    "        self.conv = nn.Conv1d(32, 1, 2, padding=\"same\", dilation=16)\n",
    "        self.batch_norm1 = nn.BatchNorm1d(sequence_length)\n",
    "        # linear layer\n",
    "        self.linear1 = nn.Linear(sequence_length, len(encoder), bias=False)\n",
    "        self.batch_norm2 = nn.BatchNorm1d(len(encoder))\n",
    "        self.linear2 = nn.Linear(len(encoder), len(encoder), bias=False)\n",
    "        # make the model initially less confident\n",
    "        self.linear2.weight.data *= 0.1\n",
    "\n",
    "\n",
    "    def forward(self, x: torch.Tensor):\n",
    "        x = self.embedding(x)\n",
    "        # make input shape into (batch_size, channels, sequence_length)\n",
    "        x = x.permute(0, 2, 1)\n",
    "        x = self.residual_blocks(x)\n",
    "        x = torch.relu(self.conv(x)).squeeze(1)\n",
    "        x = self.batch_norm1(x)\n",
    "        x = self.linear1(x)\n",
    "        x = self.batch_norm2(x)\n",
    "        x = self.linear2(x)\n",
    "        return x"
   ]
  },
  {
   "cell_type": "code",
   "execution_count": 17,
   "metadata": {},
   "outputs": [],
   "source": [
    "# set up the model\n",
    "model = WaveNet(sequence_length).to(\"mps\")\n",
    "# load the model and optimizer from checkpoint\n",
    "checkpoint = torch.load(\"checkpoint.pt\", map_location=\"mps\")\n",
    "model.load_state_dict(checkpoint[\"model_state_dict\"])\n",
    "model.requires_grad_(True)\n",
    "# set up the optimizer\n",
    "optimizer = torch.optim.AdamW(model.parameters(), lr=0.001)\n",
    "optimizer.load_state_dict(checkpoint[\"optimizer_state_dict\"])"
   ]
  },
  {
   "cell_type": "code",
   "execution_count": 15,
   "metadata": {},
   "outputs": [],
   "source": [
    "losses = []"
   ]
  },
  {
   "cell_type": "code",
   "execution_count": 66,
   "metadata": {},
   "outputs": [
    {
     "name": "stdout",
     "output_type": "stream",
     "text": [
      "epoch: 0, batch: [   0/15718], loss: 2.0166\n",
      "epoch: 0, batch: [ 100/15718], loss: 1.9003\n",
      "epoch: 0, batch: [ 200/15718], loss: 1.6796\n",
      "epoch: 0, batch: [ 300/15718], loss: 1.8588\n",
      "epoch: 0, batch: [ 400/15718], loss: 1.4960\n",
      "epoch: 0, batch: [ 500/15718], loss: 1.9760\n",
      "epoch: 0, batch: [ 600/15718], loss: 1.7551\n",
      "epoch: 0, batch: [ 700/15718], loss: 1.7700\n",
      "epoch: 0, batch: [ 800/15718], loss: 1.7182\n",
      "epoch: 0, batch: [ 900/15718], loss: 2.0835\n",
      "epoch: 0, batch: [1000/15718], loss: 1.8963\n",
      "epoch: 0, batch: [1100/15718], loss: 1.7958\n",
      "epoch: 0, batch: [1200/15718], loss: 2.1486\n",
      "epoch: 0, batch: [1300/15718], loss: 1.6020\n"
     ]
    },
    {
     "ename": "KeyboardInterrupt",
     "evalue": "",
     "output_type": "error",
     "traceback": [
      "\u001b[0;31m---------------------------------------------------------------------------\u001b[0m",
      "\u001b[0;31mKeyboardInterrupt\u001b[0m                         Traceback (most recent call last)",
      "\u001b[1;32m/Users/mujtabaalajmi/Desktop/MACHINE LEARNING/recurrent-nets/convolution_net.ipynb Cell 13\u001b[0m in \u001b[0;36m<cell line: 6>\u001b[0;34m()\u001b[0m\n\u001b[1;32m      <a href='vscode-notebook-cell:/Users/mujtabaalajmi/Desktop/MACHINE%20LEARNING/recurrent-nets/convolution_net.ipynb#X14sZmlsZQ%3D%3D?line=5'>6</a>\u001b[0m \u001b[39mfor\u001b[39;00m i \u001b[39min\u001b[39;00m \u001b[39mrange\u001b[39m(max_iters):\n\u001b[1;32m      <a href='vscode-notebook-cell:/Users/mujtabaalajmi/Desktop/MACHINE%20LEARNING/recurrent-nets/convolution_net.ipynb#X14sZmlsZQ%3D%3D?line=6'>7</a>\u001b[0m     \u001b[39mfor\u001b[39;00m batch_num, (x, y) \u001b[39min\u001b[39;00m \u001b[39menumerate\u001b[39m(make_batches(sequences, batch_size)):\n\u001b[0;32m----> <a href='vscode-notebook-cell:/Users/mujtabaalajmi/Desktop/MACHINE%20LEARNING/recurrent-nets/convolution_net.ipynb#X14sZmlsZQ%3D%3D?line=7'>8</a>\u001b[0m         y_hat \u001b[39m=\u001b[39m model(x)\n\u001b[1;32m      <a href='vscode-notebook-cell:/Users/mujtabaalajmi/Desktop/MACHINE%20LEARNING/recurrent-nets/convolution_net.ipynb#X14sZmlsZQ%3D%3D?line=8'>9</a>\u001b[0m         loss \u001b[39m=\u001b[39m F\u001b[39m.\u001b[39mcross_entropy(y_hat\u001b[39m.\u001b[39msqueeze(), y)\n\u001b[1;32m     <a href='vscode-notebook-cell:/Users/mujtabaalajmi/Desktop/MACHINE%20LEARNING/recurrent-nets/convolution_net.ipynb#X14sZmlsZQ%3D%3D?line=10'>11</a>\u001b[0m         optimizer\u001b[39m.\u001b[39mzero_grad()\n",
      "File \u001b[0;32m~/opt/miniconda3/envs/torch-nightly/lib/python3.9/site-packages/torch/nn/modules/module.py:1488\u001b[0m, in \u001b[0;36mModule._call_impl\u001b[0;34m(self, *args, **kwargs)\u001b[0m\n\u001b[1;32m   1483\u001b[0m \u001b[39m# If we don't have any hooks, we want to skip the rest of the logic in\u001b[39;00m\n\u001b[1;32m   1484\u001b[0m \u001b[39m# this function, and just call forward.\u001b[39;00m\n\u001b[1;32m   1485\u001b[0m \u001b[39mif\u001b[39;00m \u001b[39mnot\u001b[39;00m (\u001b[39mself\u001b[39m\u001b[39m.\u001b[39m_backward_hooks \u001b[39mor\u001b[39;00m \u001b[39mself\u001b[39m\u001b[39m.\u001b[39m_backward_pre_hooks \u001b[39mor\u001b[39;00m \u001b[39mself\u001b[39m\u001b[39m.\u001b[39m_forward_hooks \u001b[39mor\u001b[39;00m \u001b[39mself\u001b[39m\u001b[39m.\u001b[39m_forward_pre_hooks\n\u001b[1;32m   1486\u001b[0m         \u001b[39mor\u001b[39;00m _global_backward_pre_hooks \u001b[39mor\u001b[39;00m _global_backward_hooks\n\u001b[1;32m   1487\u001b[0m         \u001b[39mor\u001b[39;00m _global_forward_hooks \u001b[39mor\u001b[39;00m _global_forward_pre_hooks):\n\u001b[0;32m-> 1488\u001b[0m     \u001b[39mreturn\u001b[39;00m forward_call(\u001b[39m*\u001b[39;49margs, \u001b[39m*\u001b[39;49m\u001b[39m*\u001b[39;49mkwargs)\n\u001b[1;32m   1489\u001b[0m \u001b[39m# Do not call functions when jit is used\u001b[39;00m\n\u001b[1;32m   1490\u001b[0m full_backward_hooks, non_full_backward_hooks \u001b[39m=\u001b[39m [], []\n",
      "\u001b[1;32m/Users/mujtabaalajmi/Desktop/MACHINE LEARNING/recurrent-nets/convolution_net.ipynb Cell 13\u001b[0m in \u001b[0;36mWaveNet.forward\u001b[0;34m(self, x)\u001b[0m\n\u001b[1;32m     <a href='vscode-notebook-cell:/Users/mujtabaalajmi/Desktop/MACHINE%20LEARNING/recurrent-nets/convolution_net.ipynb#X14sZmlsZQ%3D%3D?line=41'>42</a>\u001b[0m \u001b[39m# make input shape into (batch_size, channels, sequence_length)\u001b[39;00m\n\u001b[1;32m     <a href='vscode-notebook-cell:/Users/mujtabaalajmi/Desktop/MACHINE%20LEARNING/recurrent-nets/convolution_net.ipynb#X14sZmlsZQ%3D%3D?line=42'>43</a>\u001b[0m x \u001b[39m=\u001b[39m x\u001b[39m.\u001b[39mpermute(\u001b[39m0\u001b[39m, \u001b[39m2\u001b[39m, \u001b[39m1\u001b[39m)\n\u001b[0;32m---> <a href='vscode-notebook-cell:/Users/mujtabaalajmi/Desktop/MACHINE%20LEARNING/recurrent-nets/convolution_net.ipynb#X14sZmlsZQ%3D%3D?line=43'>44</a>\u001b[0m x \u001b[39m=\u001b[39m \u001b[39mself\u001b[39;49m\u001b[39m.\u001b[39;49mresidual_blocks(x)\n\u001b[1;32m     <a href='vscode-notebook-cell:/Users/mujtabaalajmi/Desktop/MACHINE%20LEARNING/recurrent-nets/convolution_net.ipynb#X14sZmlsZQ%3D%3D?line=44'>45</a>\u001b[0m x \u001b[39m=\u001b[39m torch\u001b[39m.\u001b[39mrelu(\u001b[39mself\u001b[39m\u001b[39m.\u001b[39mconv(x))\u001b[39m.\u001b[39msqueeze(\u001b[39m1\u001b[39m)\n\u001b[1;32m     <a href='vscode-notebook-cell:/Users/mujtabaalajmi/Desktop/MACHINE%20LEARNING/recurrent-nets/convolution_net.ipynb#X14sZmlsZQ%3D%3D?line=45'>46</a>\u001b[0m x \u001b[39m=\u001b[39m \u001b[39mself\u001b[39m\u001b[39m.\u001b[39mbatch_norm1(x)\n",
      "File \u001b[0;32m~/opt/miniconda3/envs/torch-nightly/lib/python3.9/site-packages/torch/nn/modules/module.py:1488\u001b[0m, in \u001b[0;36mModule._call_impl\u001b[0;34m(self, *args, **kwargs)\u001b[0m\n\u001b[1;32m   1483\u001b[0m \u001b[39m# If we don't have any hooks, we want to skip the rest of the logic in\u001b[39;00m\n\u001b[1;32m   1484\u001b[0m \u001b[39m# this function, and just call forward.\u001b[39;00m\n\u001b[1;32m   1485\u001b[0m \u001b[39mif\u001b[39;00m \u001b[39mnot\u001b[39;00m (\u001b[39mself\u001b[39m\u001b[39m.\u001b[39m_backward_hooks \u001b[39mor\u001b[39;00m \u001b[39mself\u001b[39m\u001b[39m.\u001b[39m_backward_pre_hooks \u001b[39mor\u001b[39;00m \u001b[39mself\u001b[39m\u001b[39m.\u001b[39m_forward_hooks \u001b[39mor\u001b[39;00m \u001b[39mself\u001b[39m\u001b[39m.\u001b[39m_forward_pre_hooks\n\u001b[1;32m   1486\u001b[0m         \u001b[39mor\u001b[39;00m _global_backward_pre_hooks \u001b[39mor\u001b[39;00m _global_backward_hooks\n\u001b[1;32m   1487\u001b[0m         \u001b[39mor\u001b[39;00m _global_forward_hooks \u001b[39mor\u001b[39;00m _global_forward_pre_hooks):\n\u001b[0;32m-> 1488\u001b[0m     \u001b[39mreturn\u001b[39;00m forward_call(\u001b[39m*\u001b[39;49margs, \u001b[39m*\u001b[39;49m\u001b[39m*\u001b[39;49mkwargs)\n\u001b[1;32m   1489\u001b[0m \u001b[39m# Do not call functions when jit is used\u001b[39;00m\n\u001b[1;32m   1490\u001b[0m full_backward_hooks, non_full_backward_hooks \u001b[39m=\u001b[39m [], []\n",
      "File \u001b[0;32m~/opt/miniconda3/envs/torch-nightly/lib/python3.9/site-packages/torch/nn/modules/container.py:217\u001b[0m, in \u001b[0;36mSequential.forward\u001b[0;34m(self, input)\u001b[0m\n\u001b[1;32m    215\u001b[0m \u001b[39mdef\u001b[39;00m \u001b[39mforward\u001b[39m(\u001b[39mself\u001b[39m, \u001b[39minput\u001b[39m):\n\u001b[1;32m    216\u001b[0m     \u001b[39mfor\u001b[39;00m module \u001b[39min\u001b[39;00m \u001b[39mself\u001b[39m:\n\u001b[0;32m--> 217\u001b[0m         \u001b[39minput\u001b[39m \u001b[39m=\u001b[39m module(\u001b[39minput\u001b[39;49m)\n\u001b[1;32m    218\u001b[0m     \u001b[39mreturn\u001b[39;00m \u001b[39minput\u001b[39m\n",
      "File \u001b[0;32m~/opt/miniconda3/envs/torch-nightly/lib/python3.9/site-packages/torch/nn/modules/module.py:1488\u001b[0m, in \u001b[0;36mModule._call_impl\u001b[0;34m(self, *args, **kwargs)\u001b[0m\n\u001b[1;32m   1483\u001b[0m \u001b[39m# If we don't have any hooks, we want to skip the rest of the logic in\u001b[39;00m\n\u001b[1;32m   1484\u001b[0m \u001b[39m# this function, and just call forward.\u001b[39;00m\n\u001b[1;32m   1485\u001b[0m \u001b[39mif\u001b[39;00m \u001b[39mnot\u001b[39;00m (\u001b[39mself\u001b[39m\u001b[39m.\u001b[39m_backward_hooks \u001b[39mor\u001b[39;00m \u001b[39mself\u001b[39m\u001b[39m.\u001b[39m_backward_pre_hooks \u001b[39mor\u001b[39;00m \u001b[39mself\u001b[39m\u001b[39m.\u001b[39m_forward_hooks \u001b[39mor\u001b[39;00m \u001b[39mself\u001b[39m\u001b[39m.\u001b[39m_forward_pre_hooks\n\u001b[1;32m   1486\u001b[0m         \u001b[39mor\u001b[39;00m _global_backward_pre_hooks \u001b[39mor\u001b[39;00m _global_backward_hooks\n\u001b[1;32m   1487\u001b[0m         \u001b[39mor\u001b[39;00m _global_forward_hooks \u001b[39mor\u001b[39;00m _global_forward_pre_hooks):\n\u001b[0;32m-> 1488\u001b[0m     \u001b[39mreturn\u001b[39;00m forward_call(\u001b[39m*\u001b[39;49margs, \u001b[39m*\u001b[39;49m\u001b[39m*\u001b[39;49mkwargs)\n\u001b[1;32m   1489\u001b[0m \u001b[39m# Do not call functions when jit is used\u001b[39;00m\n\u001b[1;32m   1490\u001b[0m full_backward_hooks, non_full_backward_hooks \u001b[39m=\u001b[39m [], []\n",
      "\u001b[1;32m/Users/mujtabaalajmi/Desktop/MACHINE LEARNING/recurrent-nets/convolution_net.ipynb Cell 13\u001b[0m in \u001b[0;36mResidualBlock.forward\u001b[0;34m(self, input)\u001b[0m\n\u001b[1;32m      <a href='vscode-notebook-cell:/Users/mujtabaalajmi/Desktop/MACHINE%20LEARNING/recurrent-nets/convolution_net.ipynb#X14sZmlsZQ%3D%3D?line=8'>9</a>\u001b[0m output \u001b[39m=\u001b[39m \u001b[39mself\u001b[39m\u001b[39m.\u001b[39mconv(\u001b[39minput\u001b[39m)\n\u001b[1;32m     <a href='vscode-notebook-cell:/Users/mujtabaalajmi/Desktop/MACHINE%20LEARNING/recurrent-nets/convolution_net.ipynb#X14sZmlsZQ%3D%3D?line=9'>10</a>\u001b[0m filter_output \u001b[39m=\u001b[39m torch\u001b[39m.\u001b[39mtanh(output[:, :output\u001b[39m.\u001b[39mshape[\u001b[39m1\u001b[39m]\u001b[39m/\u001b[39m\u001b[39m/\u001b[39m\u001b[39m2\u001b[39m])\n\u001b[0;32m---> <a href='vscode-notebook-cell:/Users/mujtabaalajmi/Desktop/MACHINE%20LEARNING/recurrent-nets/convolution_net.ipynb#X14sZmlsZQ%3D%3D?line=10'>11</a>\u001b[0m gate_output \u001b[39m=\u001b[39m torch\u001b[39m.\u001b[39;49msigmoid(output[:, output\u001b[39m.\u001b[39;49mshape[\u001b[39m1\u001b[39;49m]\u001b[39m/\u001b[39;49m\u001b[39m/\u001b[39;49m\u001b[39m2\u001b[39;49m:])\n\u001b[1;32m     <a href='vscode-notebook-cell:/Users/mujtabaalajmi/Desktop/MACHINE%20LEARNING/recurrent-nets/convolution_net.ipynb#X14sZmlsZQ%3D%3D?line=11'>12</a>\u001b[0m output \u001b[39m=\u001b[39m filter_output \u001b[39m*\u001b[39m gate_output\n\u001b[1;32m     <a href='vscode-notebook-cell:/Users/mujtabaalajmi/Desktop/MACHINE%20LEARNING/recurrent-nets/convolution_net.ipynb#X14sZmlsZQ%3D%3D?line=12'>13</a>\u001b[0m output \u001b[39m=\u001b[39m \u001b[39mself\u001b[39m\u001b[39m.\u001b[39mbatch_norm(output)\n",
      "\u001b[0;31mKeyboardInterrupt\u001b[0m: "
     ]
    }
   ],
   "source": [
    "# training loop\n",
    "max_iters = 25\n",
    "batch_size = 64\n",
    "num_batches = sequences.shape[0] // batch_size\n",
    "model.train().to(\"mps\")\n",
    "for i in range(max_iters):\n",
    "    for batch_num, (x, y) in enumerate(make_batches(sequences, batch_size)):\n",
    "        y_hat = model(x)\n",
    "        loss = F.cross_entropy(y_hat.squeeze(), y)\n",
    "        \n",
    "        optimizer.zero_grad()\n",
    "        loss.backward()\n",
    "        optimizer.step()\n",
    "        losses.append(loss.item())\n",
    "\n",
    "        if batch_num % 100 == 0:\n",
    "            print(f\"epoch: {i}, batch: [{batch_num:>4d}/{num_batches:>4d}], loss: {loss.item():.4f}\")\n",
    "    \n",
    "    print(f\"epoch: {i}, loss: {loss.item()}\")\n",
    "\n",
    "# save checkpoint of model (optimizer and model state dict)\n",
    "torch.save({\n",
    "    \"model_state_dict\": model.state_dict(),\n",
    "    \"optimizer_state_dict\": optimizer.state_dict(),\n",
    "    \"loss\": loss\n",
    "}, \"checkpoint.pt\")"
   ]
  },
  {
   "cell_type": "code",
   "execution_count": 67,
   "metadata": {},
   "outputs": [
    {
     "data": {
      "text/plain": [
       "[<matplotlib.lines.Line2D at 0x53847f5b0>]"
      ]
     },
     "execution_count": 67,
     "metadata": {},
     "output_type": "execute_result"
    },
    {
     "data": {
      "image/png": "[encoded data removed]",
      "text/plain": [
       "<Figure size 432x288 with 1 Axes>"
      ]
     },
     "metadata": {
      "needs_background": "light"
     },
     "output_type": "display_data"
    }
   ],
   "source": [
    "# display the loss\n",
    "# smoothed losses\n",
    "smoothed_losses = []\n",
    "for i in range(0, len(losses)):\n",
    "    smoothed_losses.append(sum(losses[i:i+500]) / 500)\n",
    "\n",
    "plt.plot(smoothed_losses[:-500])\n",
    "# plt.plot(losses)"
   ]
  },
  {
   "cell_type": "code",
   "execution_count": 21,
   "metadata": {},
   "outputs": [
    {
     "data": {
      "text/plain": [
       "[<matplotlib.lines.Line2D at 0x3ac7febb0>]"
      ]
     },
     "execution_count": 21,
     "metadata": {},
     "output_type": "execute_result"
    },
    {
     "data": {
      "image/png": "[encoded data removed]",
      "text/plain": [
       "<Figure size 432x288 with 1 Axes>"
      ]
     },
     "metadata": {
      "needs_background": "light"
     },
     "output_type": "display_data"
    }
   ],
   "source": [
    "plt.plot(losses)"
   ]
  },
  {
   "cell_type": "code",
   "execution_count": 69,
   "metadata": {},
   "outputs": [],
   "source": [
    "# save model weights\n",
    "torch.save({\n",
    "    \"model_state_dict\": model.state_dict(),\n",
    "    \"optimizer_state_dict\": optimizer.state_dict(),\n",
    "    \"loss\": loss\n",
    "}, \"checkpoint.pt\")"
   ]
  },
  {
   "cell_type": "code",
   "execution_count": 28,
   "metadata": {},
   "outputs": [],
   "source": [
    "# generate text\n",
    "sequence_length = 128\n",
    "@torch.no_grad()\n",
    "def generate_text(model, start_text: str, length: int) -> str:\n",
    "    # encode the start text\n",
    "    encoded_text = torch.tensor([encoder[letter] for letter in list(start_text)], dtype=torch.long)\n",
    "    # generate the text\n",
    "    for i in range(length):\n",
    "        # get the next letter\n",
    "        y_hat = model(encoded_text[-sequence_length:].unsqueeze(0))\n",
    "        y_hat = y_hat.squeeze()\n",
    "        y_hat = F.softmax(y_hat, dim=0)\n",
    "        # sample from the distribution\n",
    "        next_letter = torch.multinomial(y_hat, 1)\n",
    "        # add the letter to the encoded text\n",
    "        encoded_text = torch.cat((encoded_text, next_letter))\n",
    "    # decode the text\n",
    "    decoded_text = \"\".join([decoder[letter.item()] for letter in encoded_text])\n",
    "    return decoded_text"
   ]
  },
  {
   "cell_type": "code",
   "execution_count": 68,
   "metadata": {},
   "outputs": [
    {
     "name": "stdout",
     "output_type": "stream",
     "text": [
      "THE BOY WHO LIVED \n",
      "Mr. and Mrs. Dursley, of number four, Privet Drive, \n",
      "were proud to say that they were perfectly normal \n",
      "thank you very much. They were the last people you’d wa bettamg, Exaptisbit the hard, Ron choot: Weet \n",
      "fank shrrusis, Potter and mwenching of the back.” \n",
      "\n",
      "The He the Slytherin Ron ’Cat red, in not, sraood betone quones, Malth \n",
      "wands end alonging,” Hexsy was hiWding sowelged \n",
      "mad youe wicging,” sid: \n",
      "sites nomumck, gumuzents his \n",
      "shoak \n",
      "fime,” hy exnry,” Harry him quimker \n",
      "crimon. Uucgy hidgling imneamemy bved first imls finny \n",
      "\n",
      "\n",
      "\n",
      "\n",
      "Flast Gringer slives waut wly at igle?s \n",
      "wa vone \n",
      "plaking of that to \n",
      "Harryss bepwh he cametiwe thrirled in face fre anNest and stush, nipes abtedt sa\n",
      "Minh \n",
      "butt hirl you sifting \n",
      "lele and pook the taramfel now problowand neached of ‘only. \n",
      "\n",
      "Proth sidlirs poalzy talch at, Rigked . \n",
      "\n",
      "Nack cood, he cook the thead wout ever, deam.” \n",
      "\n",
      "\n",
      "\n",
      "Lotled. And soalk to dite Professor Mleble, out \n",
      "saud?” srofty to chack ning and Ginb, \n",
      "at, to do lilently,” Quidall”” \n",
      "\n",
      "“Shingt sonyers \n",
      "con,” seoned one boil for sight nobs oog mlad ofbphy. He s” estyed so hick digok oves, \n",
      "\n",
      "\n",
      "Ridl clatbil’s way by \n",
      "made aromorl his dmlent enal;. \n",
      "\n",
      "“The was a none Peine.” \n",
      "\n",
      "“Peztmenten.” “Prethy \n",
      "sdarly Hosleupcats and in Rony “bid diall,” \n",
      "\n",
      "“Sitpirgis,” RacAtlight and that of to, and bush. \n",
      "\n",
      "“\n",
      "\n",
      "It ring notsight of sisblins Tther unlot. \n",
      "\n",
      "Mem. \n",
      "\n",
      "“Welted what didn’t an.”, \n",
      "hack vipced go you’d \n",
      "unbted Ron  “reasest mome Riddp Ye. Ere. \n",
      "\n",
      "Dolsi could Thouble wer sowels as, am aroyinges, \n",
      "this. \n",
      "\n",
      "“Munse, amrouse fyloe were the tazors owd \n",
      "..\n",
      "we doades it Macple,” Harry \n",
      "botked the his prerfy. \n",
      "\n",
      "\n",
      "\n",
      "\n",
      "Is and you knofunk had he betert swatipy. “To\n"
     ]
    }
   ],
   "source": [
    "# load and test model\n",
    "# model = WaveNet(sequence_length).to(\"mps\")\n",
    "# model.load_state_dict(torch.load(\"wavenet_seqlength128.pth\", map_location=\"mps\"))\n",
    "new_model = model.eval().cpu()\n",
    "\n",
    "# start text of length 128 characters\n",
    "start_text = \"THE BOY WHO LIVED \\nMr. and Mrs. Dursley, of number four, Privet Drive, \\nwere proud to say that they were perfectly normal \\nthank you very much. They were the last people you’d \"\n",
    "# generate text\n",
    "generated_text = generate_text(new_model, start_text, 1500)\n",
    "print(generated_text)"
   ]
  }
 ],
 "metadata": {
  "kernelspec": {
   "display_name": "torch-nightly",
   "language": "python",
   "name": "python3"
  },
  "language_info": {
   "codemirror_mode": {
    "name": "ipython",
    "version": 3
   },
   "file_extension": ".py",
   "mimetype": "text/x-python",
   "name": "python",
   "nbconvert_exporter": "python",
   "pygments_lexer": "ipython3",
   "version": "3.9.12"
  },
  "orig_nbformat": 4,
  "vscode": {
   "interpreter": {
    "hash": "b69368623ed639ee298e27c6826506e73bcdec6b9db0563c29b08757f48e8ce8"
   }
  }
 },
 "nbformat": 4,
 "nbformat_minor": 2
}
